{
 "cells": [
  {
   "cell_type": "code",
   "id": "initial_id",
   "metadata": {
    "collapsed": true,
    "ExecuteTime": {
     "end_time": "2024-09-29T12:31:10.182924Z",
     "start_time": "2024-09-29T12:30:48.640315Z"
    }
   },
   "source": [
    "import os\n",
    "import zipfile\n",
    "\n",
    "! git clone https://git.wur.nl/lobry001/ucmdata.git\n",
    "os.chdir('ucmdata')\n",
    "\n",
    "with zipfile.ZipFile('UCMerced_LandUse.zip', 'r') as zip_ref:\n",
    "    zip_ref.extractall('UCMImages')\n",
    "\n",
    "!mv UCMImages/UCMerced_LandUse/Images .\n",
    "!rm -rf UCMImages README.md  UCMerced_LandUse.zip\n",
    "!ls\n",
    "\n",
    "UCM_images_path = \"Images/\"\n",
    "Multilabels_path = \"LandUse_Multilabeled.txt\""
   ],
   "outputs": [
    {
     "name": "stdout",
     "output_type": "stream",
     "text": [
      "Cloning into 'ucmdata'...\r\n",
      "remote: Enumerating objects: 8, done.\u001B[K\r\n",
      "remote: Total 8 (delta 0), reused 0 (delta 0), pack-reused 8 (from 1)\u001B[K\r\n",
      "Receiving objects: 100% (8/8), 316.99 MiB | 18.03 MiB/s, done.\r\n",
      "\u001B[34mImages\u001B[m\u001B[m                   LandUse_Multilabeled.txt\r\n"
     ]
    }
   ],
   "execution_count": 1
  },
  {
   "metadata": {},
   "cell_type": "markdown",
   "source": "",
   "id": "866e8fcf984cdae5"
  },
  {
   "metadata": {},
   "cell_type": "code",
   "outputs": [],
   "execution_count": null,
   "source": "",
   "id": "eeb178ba4b86e923"
  }
 ],
 "metadata": {
  "kernelspec": {
   "display_name": "Python 3",
   "language": "python",
   "name": "python3"
  },
  "language_info": {
   "codemirror_mode": {
    "name": "ipython",
    "version": 2
   },
   "file_extension": ".py",
   "mimetype": "text/x-python",
   "name": "python",
   "nbconvert_exporter": "python",
   "pygments_lexer": "ipython2",
   "version": "2.7.6"
  }
 },
 "nbformat": 4,
 "nbformat_minor": 5
}
